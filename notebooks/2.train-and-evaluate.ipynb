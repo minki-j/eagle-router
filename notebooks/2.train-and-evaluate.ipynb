{
 "cells": [
  {
   "cell_type": "code",
   "execution_count": 1,
   "id": "72238fcc",
   "metadata": {},
   "outputs": [],
   "source": [
    "import pandas as pd\n",
    "import numpy as np\n",
    "from eagle import EagleRouter"
   ]
  },
  {
   "cell_type": "code",
   "execution_count": 3,
   "id": "82f4c78d",
   "metadata": {},
   "outputs": [
    {
     "name": "stdout",
     "output_type": "stream",
     "text": [
      "Starting hyperparameter optimization...\n",
      "Total combinations to test: 294\n"
     ]
    },
    {
     "name": "stderr",
     "output_type": "stream",
     "text": [
      "Grid Search:   0%|          | 1/294 [00:00<00:29,  9.90it/s]"
     ]
    },
    {
     "name": "stdout",
     "output_type": "stream",
     "text": [
      "P=0.01, N=5, K=16 -> Accuracy: 0.940\n",
      "P=0.01, N=5, K=24 -> Accuracy: 0.940\n"
     ]
    },
    {
     "name": "stderr",
     "output_type": "stream",
     "text": [
      "Grid Search:   1%|          | 3/294 [00:00<00:27, 10.65it/s]"
     ]
    },
    {
     "name": "stdout",
     "output_type": "stream",
     "text": [
      "P=0.01, N=5, K=32 -> Accuracy: 0.940\n"
     ]
    },
    {
     "name": "stderr",
     "output_type": "stream",
     "text": [
      "Grid Search:   2%|▏         | 5/294 [00:00<00:26, 10.84it/s]"
     ]
    },
    {
     "name": "stdout",
     "output_type": "stream",
     "text": [
      "P=0.01, N=5, K=40 -> Accuracy: 0.940\n",
      "P=0.01, N=5, K=48 -> Accuracy: 0.930\n",
      "P=0.01, N=5, K=64 -> Accuracy: 0.900\n"
     ]
    },
    {
     "name": "stderr",
     "output_type": "stream",
     "text": [
      "Grid Search:   2%|▏         | 7/294 [00:00<00:26, 10.80it/s]"
     ]
    },
    {
     "name": "stdout",
     "output_type": "stream",
     "text": [
      "P=0.01, N=5, K=128 -> Accuracy: 0.820\n",
      "P=0.01, N=10, K=16 -> Accuracy: 0.940\n"
     ]
    },
    {
     "name": "stderr",
     "output_type": "stream",
     "text": [
      "Grid Search:   3%|▎         | 9/294 [00:00<00:28, 10.09it/s]"
     ]
    },
    {
     "name": "stdout",
     "output_type": "stream",
     "text": [
      "P=0.01, N=10, K=24 -> Accuracy: 0.940\n",
      "P=0.01, N=10, K=32 -> Accuracy: 0.920\n"
     ]
    },
    {
     "name": "stderr",
     "output_type": "stream",
     "text": [
      "Grid Search:   4%|▎         | 11/294 [00:01<00:28, 10.10it/s]"
     ]
    },
    {
     "name": "stdout",
     "output_type": "stream",
     "text": [
      "P=0.01, N=10, K=40 -> Accuracy: 0.860\n"
     ]
    },
    {
     "name": "stderr",
     "output_type": "stream",
     "text": [
      "Grid Search:   4%|▍         | 13/294 [00:01<00:27, 10.09it/s]"
     ]
    },
    {
     "name": "stdout",
     "output_type": "stream",
     "text": [
      "P=0.01, N=10, K=48 -> Accuracy: 0.820\n",
      "P=0.01, N=10, K=64 -> Accuracy: 0.790\n",
      "P=0.01, N=10, K=128 -> Accuracy: 0.720\n"
     ]
    },
    {
     "name": "stderr",
     "output_type": "stream",
     "text": [
      "Grid Search:   5%|▌         | 15/294 [00:01<00:28,  9.92it/s]"
     ]
    },
    {
     "name": "stdout",
     "output_type": "stream",
     "text": [
      "P=0.01, N=20, K=16 -> Accuracy: 0.940\n"
     ]
    },
    {
     "name": "stderr",
     "output_type": "stream",
     "text": [
      "Grid Search:   5%|▌         | 16/294 [00:01<00:28,  9.72it/s]"
     ]
    },
    {
     "name": "stdout",
     "output_type": "stream",
     "text": [
      "P=0.01, N=20, K=24 -> Accuracy: 0.910\n"
     ]
    },
    {
     "name": "stderr",
     "output_type": "stream",
     "text": [
      "Grid Search:   6%|▌         | 17/294 [00:01<00:29,  9.50it/s]"
     ]
    },
    {
     "name": "stdout",
     "output_type": "stream",
     "text": [
      "P=0.01, N=20, K=32 -> Accuracy: 0.870\n"
     ]
    },
    {
     "name": "stderr",
     "output_type": "stream",
     "text": [
      "Grid Search:   6%|▌         | 18/294 [00:01<00:29,  9.37it/s]"
     ]
    },
    {
     "name": "stdout",
     "output_type": "stream",
     "text": [
      "P=0.01, N=20, K=40 -> Accuracy: 0.850\n"
     ]
    },
    {
     "name": "stderr",
     "output_type": "stream",
     "text": [
      "Grid Search:   6%|▋         | 19/294 [00:01<00:29,  9.24it/s]"
     ]
    },
    {
     "name": "stdout",
     "output_type": "stream",
     "text": [
      "P=0.01, N=20, K=48 -> Accuracy: 0.850\n"
     ]
    },
    {
     "name": "stderr",
     "output_type": "stream",
     "text": [
      "Grid Search:   7%|▋         | 20/294 [00:02<00:30,  9.11it/s]"
     ]
    },
    {
     "name": "stdout",
     "output_type": "stream",
     "text": [
      "P=0.01, N=20, K=64 -> Accuracy: 0.850\n"
     ]
    },
    {
     "name": "stderr",
     "output_type": "stream",
     "text": [
      "Grid Search:   7%|▋         | 21/294 [00:02<00:34,  7.94it/s]"
     ]
    },
    {
     "name": "stdout",
     "output_type": "stream",
     "text": [
      "P=0.01, N=20, K=128 -> Accuracy: 0.760\n"
     ]
    },
    {
     "name": "stderr",
     "output_type": "stream",
     "text": [
      "Grid Search:   7%|▋         | 22/294 [00:02<00:33,  8.00it/s]"
     ]
    },
    {
     "name": "stdout",
     "output_type": "stream",
     "text": [
      "P=0.01, N=30, K=16 -> Accuracy: 0.920\n"
     ]
    },
    {
     "name": "stderr",
     "output_type": "stream",
     "text": [
      "Grid Search:   8%|▊         | 23/294 [00:02<00:33,  8.00it/s]"
     ]
    },
    {
     "name": "stdout",
     "output_type": "stream",
     "text": [
      "P=0.01, N=30, K=24 -> Accuracy: 0.930\n"
     ]
    },
    {
     "name": "stderr",
     "output_type": "stream",
     "text": [
      "Grid Search:   8%|▊         | 24/294 [00:02<00:33,  8.09it/s]"
     ]
    },
    {
     "name": "stdout",
     "output_type": "stream",
     "text": [
      "P=0.01, N=30, K=32 -> Accuracy: 0.910\n"
     ]
    },
    {
     "name": "stderr",
     "output_type": "stream",
     "text": [
      "Grid Search:   9%|▊         | 25/294 [00:02<00:33,  8.09it/s]"
     ]
    },
    {
     "name": "stdout",
     "output_type": "stream",
     "text": [
      "P=0.01, N=30, K=40 -> Accuracy: 0.890\n"
     ]
    },
    {
     "name": "stderr",
     "output_type": "stream",
     "text": [
      "Grid Search:   9%|▉         | 26/294 [00:02<00:33,  8.07it/s]"
     ]
    },
    {
     "name": "stdout",
     "output_type": "stream",
     "text": [
      "P=0.01, N=30, K=48 -> Accuracy: 0.870\n"
     ]
    },
    {
     "name": "stderr",
     "output_type": "stream",
     "text": [
      "Grid Search:   9%|▉         | 27/294 [00:02<00:33,  8.04it/s]"
     ]
    },
    {
     "name": "stdout",
     "output_type": "stream",
     "text": [
      "P=0.01, N=30, K=64 -> Accuracy: 0.820\n"
     ]
    },
    {
     "name": "stderr",
     "output_type": "stream",
     "text": [
      "Grid Search:  10%|▉         | 28/294 [00:03<00:32,  8.08it/s]"
     ]
    },
    {
     "name": "stdout",
     "output_type": "stream",
     "text": [
      "P=0.01, N=30, K=128 -> Accuracy: 0.800\n"
     ]
    },
    {
     "name": "stderr",
     "output_type": "stream",
     "text": [
      "Grid Search:  10%|▉         | 29/294 [00:03<00:34,  7.74it/s]"
     ]
    },
    {
     "name": "stdout",
     "output_type": "stream",
     "text": [
      "P=0.01, N=50, K=16 -> Accuracy: 0.910\n"
     ]
    },
    {
     "name": "stderr",
     "output_type": "stream",
     "text": [
      "Grid Search:  10%|█         | 30/294 [00:03<00:35,  7.44it/s]"
     ]
    },
    {
     "name": "stdout",
     "output_type": "stream",
     "text": [
      "P=0.01, N=50, K=24 -> Accuracy: 0.890\n"
     ]
    },
    {
     "name": "stderr",
     "output_type": "stream",
     "text": [
      "Grid Search:  11%|█         | 31/294 [00:03<00:36,  7.28it/s]"
     ]
    },
    {
     "name": "stdout",
     "output_type": "stream",
     "text": [
      "P=0.01, N=50, K=32 -> Accuracy: 0.880\n"
     ]
    },
    {
     "name": "stderr",
     "output_type": "stream",
     "text": [
      "Grid Search:  11%|█         | 32/294 [00:03<00:36,  7.17it/s]"
     ]
    },
    {
     "name": "stdout",
     "output_type": "stream",
     "text": [
      "P=0.01, N=50, K=40 -> Accuracy: 0.860\n"
     ]
    },
    {
     "name": "stderr",
     "output_type": "stream",
     "text": [
      "Grid Search:  11%|█         | 33/294 [00:03<00:36,  7.11it/s]"
     ]
    },
    {
     "name": "stdout",
     "output_type": "stream",
     "text": [
      "P=0.01, N=50, K=48 -> Accuracy: 0.830\n"
     ]
    },
    {
     "name": "stderr",
     "output_type": "stream",
     "text": [
      "Grid Search:  12%|█▏        | 34/294 [00:03<00:36,  7.09it/s]"
     ]
    },
    {
     "name": "stdout",
     "output_type": "stream",
     "text": [
      "P=0.01, N=50, K=64 -> Accuracy: 0.790\n"
     ]
    },
    {
     "name": "stderr",
     "output_type": "stream",
     "text": [
      "Grid Search:  12%|█▏        | 35/294 [00:04<00:36,  7.14it/s]"
     ]
    },
    {
     "name": "stdout",
     "output_type": "stream",
     "text": [
      "P=0.01, N=50, K=128 -> Accuracy: 0.690\n"
     ]
    },
    {
     "name": "stderr",
     "output_type": "stream",
     "text": [
      "Grid Search:  12%|█▏        | 36/294 [00:04<00:37,  6.88it/s]"
     ]
    },
    {
     "name": "stdout",
     "output_type": "stream",
     "text": [
      "P=0.01, N=70, K=16 -> Accuracy: 0.910\n"
     ]
    },
    {
     "name": "stderr",
     "output_type": "stream",
     "text": [
      "Grid Search:  13%|█▎        | 37/294 [00:04<00:38,  6.64it/s]"
     ]
    },
    {
     "name": "stdout",
     "output_type": "stream",
     "text": [
      "P=0.01, N=70, K=24 -> Accuracy: 0.910\n"
     ]
    },
    {
     "name": "stderr",
     "output_type": "stream",
     "text": [
      "Grid Search:  13%|█▎        | 38/294 [00:04<00:39,  6.48it/s]"
     ]
    },
    {
     "name": "stdout",
     "output_type": "stream",
     "text": [
      "P=0.01, N=70, K=32 -> Accuracy: 0.900\n"
     ]
    },
    {
     "name": "stderr",
     "output_type": "stream",
     "text": [
      "Grid Search:  14%|█▎        | 40/294 [00:04<00:44,  5.73it/s]"
     ]
    },
    {
     "name": "stdout",
     "output_type": "stream",
     "text": [
      "P=0.01, N=70, K=40 -> Accuracy: 0.890\n",
      "P=0.01, N=70, K=48 -> Accuracy: 0.880\n"
     ]
    },
    {
     "name": "stderr",
     "output_type": "stream",
     "text": [
      "Grid Search:  14%|█▍        | 42/294 [00:05<00:43,  5.78it/s]"
     ]
    },
    {
     "name": "stdout",
     "output_type": "stream",
     "text": [
      "P=0.01, N=70, K=64 -> Accuracy: 0.850\n",
      "P=0.01, N=70, K=128 -> Accuracy: 0.730\n"
     ]
    },
    {
     "name": "stderr",
     "output_type": "stream",
     "text": [
      "Grid Search:  15%|█▍        | 44/294 [00:05<00:45,  5.45it/s]"
     ]
    },
    {
     "name": "stdout",
     "output_type": "stream",
     "text": [
      "P=0.01, N=100, K=16 -> Accuracy: 0.910\n",
      "P=0.01, N=100, K=24 -> Accuracy: 0.880\n"
     ]
    },
    {
     "name": "stderr",
     "output_type": "stream",
     "text": [
      "Grid Search:  16%|█▌        | 46/294 [00:06<00:47,  5.23it/s]"
     ]
    },
    {
     "name": "stdout",
     "output_type": "stream",
     "text": [
      "P=0.01, N=100, K=32 -> Accuracy: 0.850\n",
      "P=0.01, N=100, K=40 -> Accuracy: 0.840\n"
     ]
    },
    {
     "name": "stderr",
     "output_type": "stream",
     "text": [
      "Grid Search:  16%|█▋        | 48/294 [00:06<00:46,  5.30it/s]"
     ]
    },
    {
     "name": "stdout",
     "output_type": "stream",
     "text": [
      "P=0.01, N=100, K=48 -> Accuracy: 0.840\n",
      "P=0.01, N=100, K=64 -> Accuracy: 0.810\n"
     ]
    },
    {
     "name": "stderr",
     "output_type": "stream",
     "text": [
      "Grid Search:  17%|█▋        | 51/294 [00:06<00:35,  6.82it/s]"
     ]
    },
    {
     "name": "stdout",
     "output_type": "stream",
     "text": [
      "P=0.01, N=100, K=128 -> Accuracy: 0.680\n",
      "P=0.1, N=5, K=16 -> Accuracy: 0.940\n",
      "P=0.1, N=5, K=24 -> Accuracy: 0.940\n"
     ]
    },
    {
     "name": "stderr",
     "output_type": "stream",
     "text": [
      "Grid Search:  18%|█▊        | 53/294 [00:07<00:30,  7.83it/s]"
     ]
    },
    {
     "name": "stdout",
     "output_type": "stream",
     "text": [
      "P=0.1, N=5, K=32 -> Accuracy: 0.940\n",
      "P=0.1, N=5, K=40 -> Accuracy: 0.940\n",
      "P=0.1, N=5, K=48 -> Accuracy: 0.940\n"
     ]
    },
    {
     "name": "stderr",
     "output_type": "stream",
     "text": [
      "Grid Search:  19%|█▉        | 56/294 [00:07<00:26,  8.93it/s]"
     ]
    },
    {
     "name": "stdout",
     "output_type": "stream",
     "text": [
      "P=0.1, N=5, K=64 -> Accuracy: 0.910\n",
      "P=0.1, N=5, K=128 -> Accuracy: 0.870\n"
     ]
    },
    {
     "name": "stderr",
     "output_type": "stream",
     "text": [
      "Grid Search:  20%|█▉        | 58/294 [00:07<00:25,  9.24it/s]"
     ]
    },
    {
     "name": "stdout",
     "output_type": "stream",
     "text": [
      "P=0.1, N=10, K=16 -> Accuracy: 0.940\n",
      "P=0.1, N=10, K=24 -> Accuracy: 0.940\n"
     ]
    },
    {
     "name": "stderr",
     "output_type": "stream",
     "text": [
      "Grid Search:  20%|██        | 60/294 [00:07<00:28,  8.32it/s]"
     ]
    },
    {
     "name": "stdout",
     "output_type": "stream",
     "text": [
      "P=0.1, N=10, K=32 -> Accuracy: 0.930\n",
      "P=0.1, N=10, K=40 -> Accuracy: 0.890\n"
     ]
    },
    {
     "name": "stderr",
     "output_type": "stream",
     "text": [
      "Grid Search:  21%|██        | 62/294 [00:08<00:26,  8.85it/s]"
     ]
    },
    {
     "name": "stdout",
     "output_type": "stream",
     "text": [
      "P=0.1, N=10, K=48 -> Accuracy: 0.860\n",
      "P=0.1, N=10, K=64 -> Accuracy: 0.820\n"
     ]
    },
    {
     "name": "stderr",
     "output_type": "stream",
     "text": [
      "Grid Search:  22%|██▏       | 64/294 [00:08<00:25,  9.09it/s]"
     ]
    },
    {
     "name": "stdout",
     "output_type": "stream",
     "text": [
      "P=0.1, N=10, K=128 -> Accuracy: 0.710\n",
      "P=0.1, N=20, K=16 -> Accuracy: 0.940\n"
     ]
    },
    {
     "name": "stderr",
     "output_type": "stream",
     "text": [
      "Grid Search:  22%|██▏       | 66/294 [00:08<00:25,  8.89it/s]"
     ]
    },
    {
     "name": "stdout",
     "output_type": "stream",
     "text": [
      "P=0.1, N=20, K=24 -> Accuracy: 0.920\n",
      "P=0.1, N=20, K=32 -> Accuracy: 0.890\n"
     ]
    },
    {
     "name": "stderr",
     "output_type": "stream",
     "text": [
      "Grid Search:  23%|██▎       | 68/294 [00:08<00:25,  8.72it/s]"
     ]
    },
    {
     "name": "stdout",
     "output_type": "stream",
     "text": [
      "P=0.1, N=20, K=40 -> Accuracy: 0.870\n",
      "P=0.1, N=20, K=48 -> Accuracy: 0.880\n"
     ]
    },
    {
     "name": "stderr",
     "output_type": "stream",
     "text": [
      "Grid Search:  24%|██▍       | 70/294 [00:08<00:25,  8.65it/s]"
     ]
    },
    {
     "name": "stdout",
     "output_type": "stream",
     "text": [
      "P=0.1, N=20, K=64 -> Accuracy: 0.860\n",
      "P=0.1, N=20, K=128 -> Accuracy: 0.780\n"
     ]
    },
    {
     "name": "stderr",
     "output_type": "stream",
     "text": [
      "Grid Search:  24%|██▍       | 72/294 [00:09<00:26,  8.37it/s]"
     ]
    },
    {
     "name": "stdout",
     "output_type": "stream",
     "text": [
      "P=0.1, N=30, K=16 -> Accuracy: 0.940\n",
      "P=0.1, N=30, K=24 -> Accuracy: 0.940\n"
     ]
    },
    {
     "name": "stderr",
     "output_type": "stream",
     "text": [
      "Grid Search:  25%|██▌       | 74/294 [00:09<00:30,  7.29it/s]"
     ]
    },
    {
     "name": "stdout",
     "output_type": "stream",
     "text": [
      "P=0.1, N=30, K=32 -> Accuracy: 0.940\n",
      "P=0.1, N=30, K=40 -> Accuracy: 0.920\n"
     ]
    },
    {
     "name": "stderr",
     "output_type": "stream",
     "text": [
      "Grid Search:  26%|██▌       | 76/294 [00:09<00:28,  7.65it/s]"
     ]
    },
    {
     "name": "stdout",
     "output_type": "stream",
     "text": [
      "P=0.1, N=30, K=48 -> Accuracy: 0.880\n",
      "P=0.1, N=30, K=64 -> Accuracy: 0.890\n"
     ]
    },
    {
     "name": "stderr",
     "output_type": "stream",
     "text": [
      "Grid Search:  27%|██▋       | 78/294 [00:10<00:29,  7.22it/s]"
     ]
    },
    {
     "name": "stdout",
     "output_type": "stream",
     "text": [
      "P=0.1, N=30, K=128 -> Accuracy: 0.820\n",
      "P=0.1, N=50, K=16 -> Accuracy: 0.920\n"
     ]
    },
    {
     "name": "stderr",
     "output_type": "stream",
     "text": [
      "Grid Search:  27%|██▋       | 80/294 [00:10<00:33,  6.47it/s]"
     ]
    },
    {
     "name": "stdout",
     "output_type": "stream",
     "text": [
      "P=0.1, N=50, K=24 -> Accuracy: 0.890\n",
      "P=0.1, N=50, K=32 -> Accuracy: 0.890\n"
     ]
    },
    {
     "name": "stderr",
     "output_type": "stream",
     "text": [
      "Grid Search:  28%|██▊       | 82/294 [00:10<00:31,  6.73it/s]"
     ]
    },
    {
     "name": "stdout",
     "output_type": "stream",
     "text": [
      "P=0.1, N=50, K=40 -> Accuracy: 0.870\n",
      "P=0.1, N=50, K=48 -> Accuracy: 0.870\n"
     ]
    },
    {
     "name": "stderr",
     "output_type": "stream",
     "text": [
      "Grid Search:  29%|██▊       | 84/294 [00:10<00:31,  6.76it/s]"
     ]
    },
    {
     "name": "stdout",
     "output_type": "stream",
     "text": [
      "P=0.1, N=50, K=64 -> Accuracy: 0.830\n",
      "P=0.1, N=50, K=128 -> Accuracy: 0.740\n"
     ]
    },
    {
     "name": "stderr",
     "output_type": "stream",
     "text": [
      "Grid Search:  29%|██▉       | 86/294 [00:11<00:32,  6.41it/s]"
     ]
    },
    {
     "name": "stdout",
     "output_type": "stream",
     "text": [
      "P=0.1, N=70, K=16 -> Accuracy: 0.930\n",
      "P=0.1, N=70, K=24 -> Accuracy: 0.910\n"
     ]
    },
    {
     "name": "stderr",
     "output_type": "stream",
     "text": [
      "Grid Search:  30%|██▉       | 88/294 [00:11<00:33,  6.09it/s]"
     ]
    },
    {
     "name": "stdout",
     "output_type": "stream",
     "text": [
      "P=0.1, N=70, K=32 -> Accuracy: 0.920\n",
      "P=0.1, N=70, K=40 -> Accuracy: 0.900\n"
     ]
    },
    {
     "name": "stderr",
     "output_type": "stream",
     "text": [
      "Grid Search:  31%|███       | 90/294 [00:11<00:33,  6.14it/s]"
     ]
    },
    {
     "name": "stdout",
     "output_type": "stream",
     "text": [
      "P=0.1, N=70, K=48 -> Accuracy: 0.890\n",
      "P=0.1, N=70, K=64 -> Accuracy: 0.850\n"
     ]
    },
    {
     "name": "stderr",
     "output_type": "stream",
     "text": [
      "Grid Search:  31%|███▏      | 92/294 [00:12<00:34,  5.81it/s]"
     ]
    },
    {
     "name": "stdout",
     "output_type": "stream",
     "text": [
      "P=0.1, N=70, K=128 -> Accuracy: 0.760\n",
      "P=0.1, N=100, K=16 -> Accuracy: 0.930\n"
     ]
    },
    {
     "name": "stderr",
     "output_type": "stream",
     "text": [
      "Grid Search:  32%|███▏      | 94/294 [00:12<00:36,  5.45it/s]"
     ]
    },
    {
     "name": "stdout",
     "output_type": "stream",
     "text": [
      "P=0.1, N=100, K=24 -> Accuracy: 0.880\n",
      "P=0.1, N=100, K=32 -> Accuracy: 0.890\n"
     ]
    },
    {
     "name": "stderr",
     "output_type": "stream",
     "text": [
      "Grid Search:  33%|███▎      | 96/294 [00:13<00:37,  5.35it/s]"
     ]
    },
    {
     "name": "stdout",
     "output_type": "stream",
     "text": [
      "P=0.1, N=100, K=40 -> Accuracy: 0.860\n",
      "P=0.1, N=100, K=48 -> Accuracy: 0.850\n"
     ]
    },
    {
     "name": "stderr",
     "output_type": "stream",
     "text": [
      "Grid Search:  33%|███▎      | 98/294 [00:13<00:37,  5.28it/s]"
     ]
    },
    {
     "name": "stdout",
     "output_type": "stream",
     "text": [
      "P=0.1, N=100, K=64 -> Accuracy: 0.840\n",
      "P=0.1, N=100, K=128 -> Accuracy: 0.730\n"
     ]
    },
    {
     "name": "stderr",
     "output_type": "stream",
     "text": [
      "Grid Search:  34%|███▍      | 101/294 [00:13<00:25,  7.46it/s]"
     ]
    },
    {
     "name": "stdout",
     "output_type": "stream",
     "text": [
      "P=0.3, N=5, K=16 -> Accuracy: 0.940\n",
      "P=0.3, N=5, K=24 -> Accuracy: 0.940\n",
      "P=0.3, N=5, K=32 -> Accuracy: 0.940\n"
     ]
    },
    {
     "name": "stderr",
     "output_type": "stream",
     "text": [
      "Grid Search:  35%|███▌      | 104/294 [00:14<00:21,  8.74it/s]"
     ]
    },
    {
     "name": "stdout",
     "output_type": "stream",
     "text": [
      "P=0.3, N=5, K=40 -> Accuracy: 0.940\n",
      "P=0.3, N=5, K=48 -> Accuracy: 0.940\n",
      "P=0.3, N=5, K=64 -> Accuracy: 0.940\n"
     ]
    },
    {
     "name": "stderr",
     "output_type": "stream",
     "text": [
      "Grid Search:  36%|███▌      | 106/294 [00:14<00:20,  9.09it/s]"
     ]
    },
    {
     "name": "stdout",
     "output_type": "stream",
     "text": [
      "P=0.3, N=5, K=128 -> Accuracy: 0.890\n",
      "P=0.3, N=10, K=16 -> Accuracy: 0.940\n"
     ]
    },
    {
     "name": "stderr",
     "output_type": "stream",
     "text": [
      "Grid Search:  36%|███▋      | 107/294 [00:14<00:20,  9.15it/s]"
     ]
    },
    {
     "name": "stdout",
     "output_type": "stream",
     "text": [
      "P=0.3, N=10, K=24 -> Accuracy: 0.940\n"
     ]
    },
    {
     "name": "stderr",
     "output_type": "stream",
     "text": [
      "Grid Search:  37%|███▋      | 109/294 [00:14<00:24,  7.53it/s]"
     ]
    },
    {
     "name": "stdout",
     "output_type": "stream",
     "text": [
      "P=0.3, N=10, K=32 -> Accuracy: 0.940\n",
      "P=0.3, N=10, K=40 -> Accuracy: 0.940\n"
     ]
    },
    {
     "name": "stderr",
     "output_type": "stream",
     "text": [
      "Grid Search:  38%|███▊      | 111/294 [00:14<00:21,  8.36it/s]"
     ]
    },
    {
     "name": "stdout",
     "output_type": "stream",
     "text": [
      "P=0.3, N=10, K=48 -> Accuracy: 0.930\n",
      "P=0.3, N=10, K=64 -> Accuracy: 0.890\n"
     ]
    },
    {
     "name": "stderr",
     "output_type": "stream",
     "text": [
      "Grid Search:  38%|███▊      | 113/294 [00:15<00:21,  8.57it/s]"
     ]
    },
    {
     "name": "stdout",
     "output_type": "stream",
     "text": [
      "P=0.3, N=10, K=128 -> Accuracy: 0.800\n",
      "P=0.3, N=20, K=16 -> Accuracy: 0.940\n"
     ]
    },
    {
     "name": "stderr",
     "output_type": "stream",
     "text": [
      "Grid Search:  39%|███▉      | 115/294 [00:15<00:20,  8.62it/s]"
     ]
    },
    {
     "name": "stdout",
     "output_type": "stream",
     "text": [
      "P=0.3, N=20, K=24 -> Accuracy: 0.940\n",
      "P=0.3, N=20, K=32 -> Accuracy: 0.940\n"
     ]
    },
    {
     "name": "stderr",
     "output_type": "stream",
     "text": [
      "Grid Search:  40%|███▉      | 117/294 [00:15<00:20,  8.66it/s]"
     ]
    },
    {
     "name": "stdout",
     "output_type": "stream",
     "text": [
      "P=0.3, N=20, K=40 -> Accuracy: 0.930\n",
      "P=0.3, N=20, K=48 -> Accuracy: 0.920\n"
     ]
    },
    {
     "name": "stderr",
     "output_type": "stream",
     "text": [
      "Grid Search:  40%|████      | 119/294 [00:15<00:19,  8.76it/s]"
     ]
    },
    {
     "name": "stdout",
     "output_type": "stream",
     "text": [
      "P=0.3, N=20, K=64 -> Accuracy: 0.910\n",
      "P=0.3, N=20, K=128 -> Accuracy: 0.890\n"
     ]
    },
    {
     "name": "stderr",
     "output_type": "stream",
     "text": [
      "Grid Search:  41%|████      | 121/294 [00:16<00:20,  8.39it/s]"
     ]
    },
    {
     "name": "stdout",
     "output_type": "stream",
     "text": [
      "P=0.3, N=30, K=16 -> Accuracy: 0.940\n",
      "P=0.3, N=30, K=24 -> Accuracy: 0.940\n"
     ]
    },
    {
     "name": "stderr",
     "output_type": "stream",
     "text": [
      "Grid Search:  42%|████▏     | 123/294 [00:16<00:20,  8.25it/s]"
     ]
    },
    {
     "name": "stdout",
     "output_type": "stream",
     "text": [
      "P=0.3, N=30, K=32 -> Accuracy: 0.950\n",
      "P=0.3, N=30, K=40 -> Accuracy: 0.960\n"
     ]
    },
    {
     "name": "stderr",
     "output_type": "stream",
     "text": [
      "Grid Search:  43%|████▎     | 125/294 [00:16<00:20,  8.20it/s]"
     ]
    },
    {
     "name": "stdout",
     "output_type": "stream",
     "text": [
      "P=0.3, N=30, K=48 -> Accuracy: 0.960\n",
      "P=0.3, N=30, K=64 -> Accuracy: 0.950\n"
     ]
    },
    {
     "name": "stderr",
     "output_type": "stream",
     "text": [
      "Grid Search:  43%|████▎     | 127/294 [00:16<00:22,  7.57it/s]"
     ]
    },
    {
     "name": "stdout",
     "output_type": "stream",
     "text": [
      "P=0.3, N=30, K=128 -> Accuracy: 0.920\n",
      "P=0.3, N=50, K=16 -> Accuracy: 0.930\n"
     ]
    },
    {
     "name": "stderr",
     "output_type": "stream",
     "text": [
      "Grid Search:  44%|████▍     | 129/294 [00:17<00:25,  6.42it/s]"
     ]
    },
    {
     "name": "stdout",
     "output_type": "stream",
     "text": [
      "P=0.3, N=50, K=24 -> Accuracy: 0.930\n",
      "P=0.3, N=50, K=32 -> Accuracy: 0.900\n"
     ]
    },
    {
     "name": "stderr",
     "output_type": "stream",
     "text": [
      "Grid Search:  45%|████▍     | 131/294 [00:17<00:25,  6.29it/s]"
     ]
    },
    {
     "name": "stdout",
     "output_type": "stream",
     "text": [
      "P=0.3, N=50, K=40 -> Accuracy: 0.890\n",
      "P=0.3, N=50, K=48 -> Accuracy: 0.890\n"
     ]
    },
    {
     "name": "stderr",
     "output_type": "stream",
     "text": [
      "Grid Search:  45%|████▌     | 133/294 [00:17<00:26,  6.04it/s]"
     ]
    },
    {
     "name": "stdout",
     "output_type": "stream",
     "text": [
      "P=0.3, N=50, K=64 -> Accuracy: 0.870\n",
      "P=0.3, N=50, K=128 -> Accuracy: 0.820\n"
     ]
    },
    {
     "name": "stderr",
     "output_type": "stream",
     "text": [
      "Grid Search:  46%|████▌     | 135/294 [00:18<00:26,  5.89it/s]"
     ]
    },
    {
     "name": "stdout",
     "output_type": "stream",
     "text": [
      "P=0.3, N=70, K=16 -> Accuracy: 0.940\n",
      "P=0.3, N=70, K=24 -> Accuracy: 0.940\n"
     ]
    },
    {
     "name": "stderr",
     "output_type": "stream",
     "text": [
      "Grid Search:  47%|████▋     | 137/294 [00:18<00:28,  5.55it/s]"
     ]
    },
    {
     "name": "stdout",
     "output_type": "stream",
     "text": [
      "P=0.3, N=70, K=32 -> Accuracy: 0.920\n",
      "P=0.3, N=70, K=40 -> Accuracy: 0.920\n"
     ]
    },
    {
     "name": "stderr",
     "output_type": "stream",
     "text": [
      "Grid Search:  47%|████▋     | 139/294 [00:18<00:26,  5.84it/s]"
     ]
    },
    {
     "name": "stdout",
     "output_type": "stream",
     "text": [
      "P=0.3, N=70, K=48 -> Accuracy: 0.940\n",
      "P=0.3, N=70, K=64 -> Accuracy: 0.930\n"
     ]
    },
    {
     "name": "stderr",
     "output_type": "stream",
     "text": [
      "Grid Search:  48%|████▊     | 141/294 [00:19<00:26,  5.71it/s]"
     ]
    },
    {
     "name": "stdout",
     "output_type": "stream",
     "text": [
      "P=0.3, N=70, K=128 -> Accuracy: 0.870\n",
      "P=0.3, N=100, K=16 -> Accuracy: 0.940\n"
     ]
    },
    {
     "name": "stderr",
     "output_type": "stream",
     "text": [
      "Grid Search:  48%|████▊     | 142/294 [00:19<00:30,  4.90it/s]"
     ]
    },
    {
     "name": "stdout",
     "output_type": "stream",
     "text": [
      "P=0.3, N=100, K=24 -> Accuracy: 0.940\n"
     ]
    },
    {
     "name": "stderr",
     "output_type": "stream",
     "text": [
      "Grid Search:  49%|████▊     | 143/294 [00:19<00:31,  4.81it/s]"
     ]
    },
    {
     "name": "stdout",
     "output_type": "stream",
     "text": [
      "P=0.3, N=100, K=32 -> Accuracy: 0.920\n"
     ]
    },
    {
     "name": "stderr",
     "output_type": "stream",
     "text": [
      "Grid Search:  49%|████▉     | 144/294 [00:20<00:31,  4.71it/s]"
     ]
    },
    {
     "name": "stdout",
     "output_type": "stream",
     "text": [
      "P=0.3, N=100, K=40 -> Accuracy: 0.920\n"
     ]
    },
    {
     "name": "stderr",
     "output_type": "stream",
     "text": [
      "Grid Search:  50%|████▉     | 146/294 [00:20<00:30,  4.79it/s]"
     ]
    },
    {
     "name": "stdout",
     "output_type": "stream",
     "text": [
      "P=0.3, N=100, K=48 -> Accuracy: 0.920\n",
      "P=0.3, N=100, K=64 -> Accuracy: 0.920\n"
     ]
    },
    {
     "name": "stderr",
     "output_type": "stream",
     "text": [
      "Grid Search:  50%|█████     | 148/294 [00:20<00:25,  5.75it/s]"
     ]
    },
    {
     "name": "stdout",
     "output_type": "stream",
     "text": [
      "P=0.3, N=100, K=128 -> Accuracy: 0.830\n",
      "P=0.5, N=5, K=16 -> Accuracy: 0.940\n"
     ]
    },
    {
     "name": "stderr",
     "output_type": "stream",
     "text": [
      "Grid Search:  51%|█████     | 150/294 [00:20<00:20,  7.17it/s]"
     ]
    },
    {
     "name": "stdout",
     "output_type": "stream",
     "text": [
      "P=0.5, N=5, K=24 -> Accuracy: 0.940\n",
      "P=0.5, N=5, K=32 -> Accuracy: 0.940\n"
     ]
    },
    {
     "name": "stderr",
     "output_type": "stream",
     "text": [
      "Grid Search:  52%|█████▏    | 152/294 [00:21<00:17,  8.07it/s]"
     ]
    },
    {
     "name": "stdout",
     "output_type": "stream",
     "text": [
      "P=0.5, N=5, K=40 -> Accuracy: 0.940\n",
      "P=0.5, N=5, K=48 -> Accuracy: 0.940\n"
     ]
    },
    {
     "name": "stderr",
     "output_type": "stream",
     "text": [
      "Grid Search:  52%|█████▏    | 154/294 [00:21<00:15,  8.93it/s]"
     ]
    },
    {
     "name": "stdout",
     "output_type": "stream",
     "text": [
      "P=0.5, N=5, K=64 -> Accuracy: 0.940\n",
      "P=0.5, N=5, K=128 -> Accuracy: 0.940\n"
     ]
    },
    {
     "name": "stderr",
     "output_type": "stream",
     "text": [
      "Grid Search:  53%|█████▎    | 156/294 [00:21<00:15,  9.01it/s]"
     ]
    },
    {
     "name": "stdout",
     "output_type": "stream",
     "text": [
      "P=0.5, N=10, K=16 -> Accuracy: 0.940\n",
      "P=0.5, N=10, K=24 -> Accuracy: 0.940\n"
     ]
    },
    {
     "name": "stderr",
     "output_type": "stream",
     "text": [
      "Grid Search:  54%|█████▎    | 158/294 [00:21<00:14,  9.27it/s]"
     ]
    },
    {
     "name": "stdout",
     "output_type": "stream",
     "text": [
      "P=0.5, N=10, K=32 -> Accuracy: 0.940\n",
      "P=0.5, N=10, K=40 -> Accuracy: 0.940\n"
     ]
    },
    {
     "name": "stderr",
     "output_type": "stream",
     "text": [
      "Grid Search:  54%|█████▍    | 160/294 [00:22<00:14,  9.39it/s]"
     ]
    },
    {
     "name": "stdout",
     "output_type": "stream",
     "text": [
      "P=0.5, N=10, K=48 -> Accuracy: 0.940\n",
      "P=0.5, N=10, K=64 -> Accuracy: 0.940\n"
     ]
    },
    {
     "name": "stderr",
     "output_type": "stream",
     "text": [
      "Grid Search:  55%|█████▌    | 162/294 [00:22<00:14,  9.30it/s]"
     ]
    },
    {
     "name": "stdout",
     "output_type": "stream",
     "text": [
      "P=0.5, N=10, K=128 -> Accuracy: 0.910\n",
      "P=0.5, N=20, K=16 -> Accuracy: 0.940\n"
     ]
    },
    {
     "name": "stderr",
     "output_type": "stream",
     "text": [
      "Grid Search:  56%|█████▌    | 164/294 [00:22<00:14,  8.94it/s]"
     ]
    },
    {
     "name": "stdout",
     "output_type": "stream",
     "text": [
      "P=0.5, N=20, K=24 -> Accuracy: 0.940\n",
      "P=0.5, N=20, K=32 -> Accuracy: 0.940\n"
     ]
    },
    {
     "name": "stderr",
     "output_type": "stream",
     "text": [
      "Grid Search:  56%|█████▋    | 166/294 [00:22<00:14,  8.82it/s]"
     ]
    },
    {
     "name": "stdout",
     "output_type": "stream",
     "text": [
      "P=0.5, N=20, K=40 -> Accuracy: 0.940\n",
      "P=0.5, N=20, K=48 -> Accuracy: 0.940\n"
     ]
    },
    {
     "name": "stderr",
     "output_type": "stream",
     "text": [
      "Grid Search:  57%|█████▋    | 168/294 [00:22<00:14,  8.87it/s]"
     ]
    },
    {
     "name": "stdout",
     "output_type": "stream",
     "text": [
      "P=0.5, N=20, K=64 -> Accuracy: 0.940\n",
      "P=0.5, N=20, K=128 -> Accuracy: 0.930\n"
     ]
    },
    {
     "name": "stderr",
     "output_type": "stream",
     "text": [
      "Grid Search:  58%|█████▊    | 170/294 [00:23<00:15,  8.11it/s]"
     ]
    },
    {
     "name": "stdout",
     "output_type": "stream",
     "text": [
      "P=0.5, N=30, K=16 -> Accuracy: 0.940\n",
      "P=0.5, N=30, K=24 -> Accuracy: 0.940\n"
     ]
    },
    {
     "name": "stderr",
     "output_type": "stream",
     "text": [
      "Grid Search:  59%|█████▊    | 172/294 [00:23<00:17,  7.14it/s]"
     ]
    },
    {
     "name": "stdout",
     "output_type": "stream",
     "text": [
      "P=0.5, N=30, K=32 -> Accuracy: 0.940\n",
      "P=0.5, N=30, K=40 -> Accuracy: 0.940\n"
     ]
    },
    {
     "name": "stderr",
     "output_type": "stream",
     "text": [
      "Grid Search:  59%|█████▉    | 174/294 [00:23<00:16,  7.49it/s]"
     ]
    },
    {
     "name": "stdout",
     "output_type": "stream",
     "text": [
      "P=0.5, N=30, K=48 -> Accuracy: 0.940\n",
      "P=0.5, N=30, K=64 -> Accuracy: 0.940\n"
     ]
    },
    {
     "name": "stderr",
     "output_type": "stream",
     "text": [
      "Grid Search:  60%|█████▉    | 176/294 [00:24<00:15,  7.44it/s]"
     ]
    },
    {
     "name": "stdout",
     "output_type": "stream",
     "text": [
      "P=0.5, N=30, K=128 -> Accuracy: 0.950\n",
      "P=0.5, N=50, K=16 -> Accuracy: 0.940\n"
     ]
    },
    {
     "name": "stderr",
     "output_type": "stream",
     "text": [
      "Grid Search:  61%|██████    | 178/294 [00:24<00:16,  7.07it/s]"
     ]
    },
    {
     "name": "stdout",
     "output_type": "stream",
     "text": [
      "P=0.5, N=50, K=24 -> Accuracy: 0.940\n",
      "P=0.5, N=50, K=32 -> Accuracy: 0.930\n"
     ]
    },
    {
     "name": "stderr",
     "output_type": "stream",
     "text": [
      "Grid Search:  61%|██████    | 180/294 [00:24<00:16,  7.00it/s]"
     ]
    },
    {
     "name": "stdout",
     "output_type": "stream",
     "text": [
      "P=0.5, N=50, K=40 -> Accuracy: 0.930\n",
      "P=0.5, N=50, K=48 -> Accuracy: 0.930\n"
     ]
    },
    {
     "name": "stderr",
     "output_type": "stream",
     "text": [
      "Grid Search:  62%|██████▏   | 182/294 [00:24<00:16,  6.86it/s]"
     ]
    },
    {
     "name": "stdout",
     "output_type": "stream",
     "text": [
      "P=0.5, N=50, K=64 -> Accuracy: 0.930\n",
      "P=0.5, N=50, K=128 -> Accuracy: 0.930\n"
     ]
    },
    {
     "name": "stderr",
     "output_type": "stream",
     "text": [
      "Grid Search:  63%|██████▎   | 184/294 [00:25<00:17,  6.45it/s]"
     ]
    },
    {
     "name": "stdout",
     "output_type": "stream",
     "text": [
      "P=0.5, N=70, K=16 -> Accuracy: 0.940\n",
      "P=0.5, N=70, K=24 -> Accuracy: 0.940\n"
     ]
    },
    {
     "name": "stderr",
     "output_type": "stream",
     "text": [
      "Grid Search:  63%|██████▎   | 186/294 [00:25<00:17,  6.31it/s]"
     ]
    },
    {
     "name": "stdout",
     "output_type": "stream",
     "text": [
      "P=0.5, N=70, K=32 -> Accuracy: 0.940\n",
      "P=0.5, N=70, K=40 -> Accuracy: 0.940\n"
     ]
    },
    {
     "name": "stderr",
     "output_type": "stream",
     "text": [
      "Grid Search:  64%|██████▍   | 188/294 [00:25<00:17,  6.19it/s]"
     ]
    },
    {
     "name": "stdout",
     "output_type": "stream",
     "text": [
      "P=0.5, N=70, K=48 -> Accuracy: 0.940\n",
      "P=0.5, N=70, K=64 -> Accuracy: 0.940\n"
     ]
    },
    {
     "name": "stderr",
     "output_type": "stream",
     "text": [
      "Grid Search:  65%|██████▍   | 190/294 [00:26<00:18,  5.77it/s]"
     ]
    },
    {
     "name": "stdout",
     "output_type": "stream",
     "text": [
      "P=0.5, N=70, K=128 -> Accuracy: 0.950\n",
      "P=0.5, N=100, K=16 -> Accuracy: 0.940\n"
     ]
    },
    {
     "name": "stderr",
     "output_type": "stream",
     "text": [
      "Grid Search:  65%|██████▌   | 192/294 [00:26<00:18,  5.52it/s]"
     ]
    },
    {
     "name": "stdout",
     "output_type": "stream",
     "text": [
      "P=0.5, N=100, K=24 -> Accuracy: 0.940\n",
      "P=0.5, N=100, K=32 -> Accuracy: 0.940\n"
     ]
    },
    {
     "name": "stderr",
     "output_type": "stream",
     "text": [
      "Grid Search:  66%|██████▌   | 194/294 [00:27<00:18,  5.37it/s]"
     ]
    },
    {
     "name": "stdout",
     "output_type": "stream",
     "text": [
      "P=0.5, N=100, K=40 -> Accuracy: 0.940\n",
      "P=0.5, N=100, K=48 -> Accuracy: 0.940\n"
     ]
    },
    {
     "name": "stderr",
     "output_type": "stream",
     "text": [
      "Grid Search:  67%|██████▋   | 196/294 [00:27<00:18,  5.36it/s]"
     ]
    },
    {
     "name": "stdout",
     "output_type": "stream",
     "text": [
      "P=0.5, N=100, K=64 -> Accuracy: 0.940\n",
      "P=0.5, N=100, K=128 -> Accuracy: 0.940\n"
     ]
    },
    {
     "name": "stderr",
     "output_type": "stream",
     "text": [
      "Grid Search:  68%|██████▊   | 199/294 [00:27<00:12,  7.62it/s]"
     ]
    },
    {
     "name": "stdout",
     "output_type": "stream",
     "text": [
      "P=0.7, N=5, K=16 -> Accuracy: 0.940\n",
      "P=0.7, N=5, K=24 -> Accuracy: 0.940\n",
      "P=0.7, N=5, K=32 -> Accuracy: 0.940\n"
     ]
    },
    {
     "name": "stderr",
     "output_type": "stream",
     "text": [
      "Grid Search:  68%|██████▊   | 201/294 [00:27<00:10,  8.47it/s]"
     ]
    },
    {
     "name": "stdout",
     "output_type": "stream",
     "text": [
      "P=0.7, N=5, K=40 -> Accuracy: 0.940\n",
      "P=0.7, N=5, K=48 -> Accuracy: 0.940\n",
      "P=0.7, N=5, K=64 -> Accuracy: 0.940\n"
     ]
    },
    {
     "name": "stderr",
     "output_type": "stream",
     "text": [
      "Grid Search:  69%|██████▉   | 204/294 [00:28<00:09,  9.18it/s]"
     ]
    },
    {
     "name": "stdout",
     "output_type": "stream",
     "text": [
      "P=0.7, N=5, K=128 -> Accuracy: 0.940\n",
      "P=0.7, N=10, K=16 -> Accuracy: 0.940\n"
     ]
    },
    {
     "name": "stderr",
     "output_type": "stream",
     "text": [
      "Grid Search:  70%|███████   | 206/294 [00:28<00:09,  9.41it/s]"
     ]
    },
    {
     "name": "stdout",
     "output_type": "stream",
     "text": [
      "P=0.7, N=10, K=24 -> Accuracy: 0.940\n",
      "P=0.7, N=10, K=32 -> Accuracy: 0.940\n"
     ]
    },
    {
     "name": "stderr",
     "output_type": "stream",
     "text": [
      "Grid Search:  71%|███████   | 208/294 [00:28<00:09,  9.33it/s]"
     ]
    },
    {
     "name": "stdout",
     "output_type": "stream",
     "text": [
      "P=0.7, N=10, K=40 -> Accuracy: 0.940\n",
      "P=0.7, N=10, K=48 -> Accuracy: 0.940\n"
     ]
    },
    {
     "name": "stderr",
     "output_type": "stream",
     "text": [
      "Grid Search:  71%|███████▏  | 210/294 [00:28<00:08,  9.45it/s]"
     ]
    },
    {
     "name": "stdout",
     "output_type": "stream",
     "text": [
      "P=0.7, N=10, K=64 -> Accuracy: 0.940\n",
      "P=0.7, N=10, K=128 -> Accuracy: 0.940\n"
     ]
    },
    {
     "name": "stderr",
     "output_type": "stream",
     "text": [
      "Grid Search:  72%|███████▏  | 212/294 [00:29<00:08,  9.16it/s]"
     ]
    },
    {
     "name": "stdout",
     "output_type": "stream",
     "text": [
      "P=0.7, N=20, K=16 -> Accuracy: 0.940\n",
      "P=0.7, N=20, K=24 -> Accuracy: 0.940\n"
     ]
    },
    {
     "name": "stderr",
     "output_type": "stream",
     "text": [
      "Grid Search:  73%|███████▎  | 214/294 [00:29<00:10,  7.83it/s]"
     ]
    },
    {
     "name": "stdout",
     "output_type": "stream",
     "text": [
      "P=0.7, N=20, K=32 -> Accuracy: 0.940\n",
      "P=0.7, N=20, K=40 -> Accuracy: 0.940\n"
     ]
    },
    {
     "name": "stderr",
     "output_type": "stream",
     "text": [
      "Grid Search:  73%|███████▎  | 216/294 [00:29<00:09,  8.25it/s]"
     ]
    },
    {
     "name": "stdout",
     "output_type": "stream",
     "text": [
      "P=0.7, N=20, K=48 -> Accuracy: 0.940\n",
      "P=0.7, N=20, K=64 -> Accuracy: 0.940\n"
     ]
    },
    {
     "name": "stderr",
     "output_type": "stream",
     "text": [
      "Grid Search:  74%|███████▍  | 218/294 [00:29<00:09,  8.32it/s]"
     ]
    },
    {
     "name": "stdout",
     "output_type": "stream",
     "text": [
      "P=0.7, N=20, K=128 -> Accuracy: 0.940\n",
      "P=0.7, N=30, K=16 -> Accuracy: 0.940\n"
     ]
    },
    {
     "name": "stderr",
     "output_type": "stream",
     "text": [
      "Grid Search:  75%|███████▍  | 220/294 [00:30<00:08,  8.26it/s]"
     ]
    },
    {
     "name": "stdout",
     "output_type": "stream",
     "text": [
      "P=0.7, N=30, K=24 -> Accuracy: 0.940\n",
      "P=0.7, N=30, K=32 -> Accuracy: 0.940\n"
     ]
    },
    {
     "name": "stderr",
     "output_type": "stream",
     "text": [
      "Grid Search:  76%|███████▌  | 222/294 [00:30<00:08,  8.23it/s]"
     ]
    },
    {
     "name": "stdout",
     "output_type": "stream",
     "text": [
      "P=0.7, N=30, K=40 -> Accuracy: 0.940\n",
      "P=0.7, N=30, K=48 -> Accuracy: 0.940\n"
     ]
    },
    {
     "name": "stderr",
     "output_type": "stream",
     "text": [
      "Grid Search:  76%|███████▌  | 224/294 [00:30<00:08,  8.02it/s]"
     ]
    },
    {
     "name": "stdout",
     "output_type": "stream",
     "text": [
      "P=0.7, N=30, K=64 -> Accuracy: 0.940\n",
      "P=0.7, N=30, K=128 -> Accuracy: 0.940\n"
     ]
    },
    {
     "name": "stderr",
     "output_type": "stream",
     "text": [
      "Grid Search:  77%|███████▋  | 226/294 [00:30<00:09,  7.45it/s]"
     ]
    },
    {
     "name": "stdout",
     "output_type": "stream",
     "text": [
      "P=0.7, N=50, K=16 -> Accuracy: 0.940\n",
      "P=0.7, N=50, K=24 -> Accuracy: 0.940\n"
     ]
    },
    {
     "name": "stderr",
     "output_type": "stream",
     "text": [
      "Grid Search:  78%|███████▊  | 228/294 [00:31<00:09,  7.22it/s]"
     ]
    },
    {
     "name": "stdout",
     "output_type": "stream",
     "text": [
      "P=0.7, N=50, K=32 -> Accuracy: 0.940\n",
      "P=0.7, N=50, K=40 -> Accuracy: 0.940\n"
     ]
    },
    {
     "name": "stderr",
     "output_type": "stream",
     "text": [
      "Grid Search:  78%|███████▊  | 230/294 [00:31<00:08,  7.12it/s]"
     ]
    },
    {
     "name": "stdout",
     "output_type": "stream",
     "text": [
      "P=0.7, N=50, K=48 -> Accuracy: 0.940\n",
      "P=0.7, N=50, K=64 -> Accuracy: 0.940\n"
     ]
    },
    {
     "name": "stderr",
     "output_type": "stream",
     "text": [
      "Grid Search:  79%|███████▉  | 232/294 [00:31<00:09,  6.81it/s]"
     ]
    },
    {
     "name": "stdout",
     "output_type": "stream",
     "text": [
      "P=0.7, N=50, K=128 -> Accuracy: 0.940\n",
      "P=0.7, N=70, K=16 -> Accuracy: 0.940\n"
     ]
    },
    {
     "name": "stderr",
     "output_type": "stream",
     "text": [
      "Grid Search:  80%|███████▉  | 234/294 [00:32<00:09,  6.41it/s]"
     ]
    },
    {
     "name": "stdout",
     "output_type": "stream",
     "text": [
      "P=0.7, N=70, K=24 -> Accuracy: 0.940\n",
      "P=0.7, N=70, K=32 -> Accuracy: 0.940\n"
     ]
    },
    {
     "name": "stderr",
     "output_type": "stream",
     "text": [
      "Grid Search:  80%|████████  | 236/294 [00:32<00:09,  6.23it/s]"
     ]
    },
    {
     "name": "stdout",
     "output_type": "stream",
     "text": [
      "P=0.7, N=70, K=40 -> Accuracy: 0.940\n",
      "P=0.7, N=70, K=48 -> Accuracy: 0.940\n"
     ]
    },
    {
     "name": "stderr",
     "output_type": "stream",
     "text": [
      "Grid Search:  81%|████████  | 238/294 [00:32<00:09,  6.11it/s]"
     ]
    },
    {
     "name": "stdout",
     "output_type": "stream",
     "text": [
      "P=0.7, N=70, K=64 -> Accuracy: 0.940\n",
      "P=0.7, N=70, K=128 -> Accuracy: 0.940\n"
     ]
    },
    {
     "name": "stderr",
     "output_type": "stream",
     "text": [
      "Grid Search:  82%|████████▏ | 240/294 [00:33<00:09,  5.55it/s]"
     ]
    },
    {
     "name": "stdout",
     "output_type": "stream",
     "text": [
      "P=0.7, N=100, K=16 -> Accuracy: 0.940\n",
      "P=0.7, N=100, K=24 -> Accuracy: 0.940\n"
     ]
    },
    {
     "name": "stderr",
     "output_type": "stream",
     "text": [
      "Grid Search:  82%|████████▏ | 242/294 [00:33<00:09,  5.31it/s]"
     ]
    },
    {
     "name": "stdout",
     "output_type": "stream",
     "text": [
      "P=0.7, N=100, K=32 -> Accuracy: 0.940\n",
      "P=0.7, N=100, K=40 -> Accuracy: 0.940\n"
     ]
    },
    {
     "name": "stderr",
     "output_type": "stream",
     "text": [
      "Grid Search:  83%|████████▎ | 244/294 [00:33<00:09,  5.21it/s]"
     ]
    },
    {
     "name": "stdout",
     "output_type": "stream",
     "text": [
      "P=0.7, N=100, K=48 -> Accuracy: 0.940\n",
      "P=0.7, N=100, K=64 -> Accuracy: 0.940\n"
     ]
    },
    {
     "name": "stderr",
     "output_type": "stream",
     "text": [
      "Grid Search:  84%|████████▍ | 247/294 [00:34<00:06,  6.75it/s]"
     ]
    },
    {
     "name": "stdout",
     "output_type": "stream",
     "text": [
      "P=0.7, N=100, K=128 -> Accuracy: 0.940\n",
      "P=0.9, N=5, K=16 -> Accuracy: 0.940\n",
      "P=0.9, N=5, K=24 -> Accuracy: 0.940\n"
     ]
    },
    {
     "name": "stderr",
     "output_type": "stream",
     "text": [
      "Grid Search:  85%|████████▍ | 249/294 [00:34<00:06,  6.99it/s]"
     ]
    },
    {
     "name": "stdout",
     "output_type": "stream",
     "text": [
      "P=0.9, N=5, K=32 -> Accuracy: 0.940\n",
      "P=0.9, N=5, K=40 -> Accuracy: 0.940\n",
      "P=0.9, N=5, K=48 -> Accuracy: 0.940\n"
     ]
    },
    {
     "name": "stderr",
     "output_type": "stream",
     "text": [
      "Grid Search:  85%|████████▌ | 251/294 [00:34<00:05,  8.02it/s]"
     ]
    },
    {
     "name": "stdout",
     "output_type": "stream",
     "text": [
      "P=0.9, N=5, K=64 -> Accuracy: 0.940\n",
      "P=0.9, N=5, K=128 -> Accuracy: 0.940\n"
     ]
    },
    {
     "name": "stderr",
     "output_type": "stream",
     "text": [
      "Grid Search:  86%|████████▋ | 254/294 [00:35<00:04,  8.76it/s]"
     ]
    },
    {
     "name": "stdout",
     "output_type": "stream",
     "text": [
      "P=0.9, N=10, K=16 -> Accuracy: 0.940\n",
      "P=0.9, N=10, K=24 -> Accuracy: 0.940\n"
     ]
    },
    {
     "name": "stderr",
     "output_type": "stream",
     "text": [
      "Grid Search:  87%|████████▋ | 256/294 [00:35<00:04,  9.10it/s]"
     ]
    },
    {
     "name": "stdout",
     "output_type": "stream",
     "text": [
      "P=0.9, N=10, K=32 -> Accuracy: 0.940\n",
      "P=0.9, N=10, K=40 -> Accuracy: 0.940\n"
     ]
    },
    {
     "name": "stderr",
     "output_type": "stream",
     "text": [
      "Grid Search:  88%|████████▊ | 258/294 [00:35<00:03,  9.27it/s]"
     ]
    },
    {
     "name": "stdout",
     "output_type": "stream",
     "text": [
      "P=0.9, N=10, K=48 -> Accuracy: 0.940\n",
      "P=0.9, N=10, K=64 -> Accuracy: 0.940\n"
     ]
    },
    {
     "name": "stderr",
     "output_type": "stream",
     "text": [
      "Grid Search:  88%|████████▊ | 260/294 [00:35<00:03,  8.76it/s]"
     ]
    },
    {
     "name": "stdout",
     "output_type": "stream",
     "text": [
      "P=0.9, N=10, K=128 -> Accuracy: 0.940\n",
      "P=0.9, N=20, K=16 -> Accuracy: 0.940\n"
     ]
    },
    {
     "name": "stderr",
     "output_type": "stream",
     "text": [
      "Grid Search:  89%|████████▉ | 262/294 [00:35<00:03,  8.60it/s]"
     ]
    },
    {
     "name": "stdout",
     "output_type": "stream",
     "text": [
      "P=0.9, N=20, K=24 -> Accuracy: 0.940\n",
      "P=0.9, N=20, K=32 -> Accuracy: 0.940\n"
     ]
    },
    {
     "name": "stderr",
     "output_type": "stream",
     "text": [
      "Grid Search:  90%|████████▉ | 264/294 [00:36<00:03,  8.47it/s]"
     ]
    },
    {
     "name": "stdout",
     "output_type": "stream",
     "text": [
      "P=0.9, N=20, K=40 -> Accuracy: 0.940\n",
      "P=0.9, N=20, K=48 -> Accuracy: 0.940\n"
     ]
    },
    {
     "name": "stderr",
     "output_type": "stream",
     "text": [
      "Grid Search:  90%|█████████ | 266/294 [00:36<00:03,  8.47it/s]"
     ]
    },
    {
     "name": "stdout",
     "output_type": "stream",
     "text": [
      "P=0.9, N=20, K=64 -> Accuracy: 0.940\n",
      "P=0.9, N=20, K=128 -> Accuracy: 0.940\n"
     ]
    },
    {
     "name": "stderr",
     "output_type": "stream",
     "text": [
      "Grid Search:  91%|█████████ | 268/294 [00:36<00:03,  8.08it/s]"
     ]
    },
    {
     "name": "stdout",
     "output_type": "stream",
     "text": [
      "P=0.9, N=30, K=16 -> Accuracy: 0.940\n",
      "P=0.9, N=30, K=24 -> Accuracy: 0.940\n"
     ]
    },
    {
     "name": "stderr",
     "output_type": "stream",
     "text": [
      "Grid Search:  92%|█████████▏| 270/294 [00:36<00:02,  8.05it/s]"
     ]
    },
    {
     "name": "stdout",
     "output_type": "stream",
     "text": [
      "P=0.9, N=30, K=32 -> Accuracy: 0.940\n",
      "P=0.9, N=30, K=40 -> Accuracy: 0.940\n"
     ]
    },
    {
     "name": "stderr",
     "output_type": "stream",
     "text": [
      "Grid Search:  93%|█████████▎| 272/294 [00:37<00:02,  7.94it/s]"
     ]
    },
    {
     "name": "stdout",
     "output_type": "stream",
     "text": [
      "P=0.9, N=30, K=48 -> Accuracy: 0.940\n",
      "P=0.9, N=30, K=64 -> Accuracy: 0.940\n"
     ]
    },
    {
     "name": "stderr",
     "output_type": "stream",
     "text": [
      "Grid Search:  93%|█████████▎| 274/294 [00:37<00:02,  7.44it/s]"
     ]
    },
    {
     "name": "stdout",
     "output_type": "stream",
     "text": [
      "P=0.9, N=30, K=128 -> Accuracy: 0.940\n",
      "P=0.9, N=50, K=16 -> Accuracy: 0.940\n"
     ]
    },
    {
     "name": "stderr",
     "output_type": "stream",
     "text": [
      "Grid Search:  94%|█████████▍| 276/294 [00:37<00:02,  7.19it/s]"
     ]
    },
    {
     "name": "stdout",
     "output_type": "stream",
     "text": [
      "P=0.9, N=50, K=24 -> Accuracy: 0.940\n",
      "P=0.9, N=50, K=32 -> Accuracy: 0.940\n"
     ]
    },
    {
     "name": "stderr",
     "output_type": "stream",
     "text": [
      "Grid Search:  95%|█████████▍| 278/294 [00:38<00:02,  6.99it/s]"
     ]
    },
    {
     "name": "stdout",
     "output_type": "stream",
     "text": [
      "P=0.9, N=50, K=40 -> Accuracy: 0.940\n",
      "P=0.9, N=50, K=48 -> Accuracy: 0.940\n"
     ]
    },
    {
     "name": "stderr",
     "output_type": "stream",
     "text": [
      "Grid Search:  95%|█████████▌| 280/294 [00:38<00:02,  6.97it/s]"
     ]
    },
    {
     "name": "stdout",
     "output_type": "stream",
     "text": [
      "P=0.9, N=50, K=64 -> Accuracy: 0.940\n",
      "P=0.9, N=50, K=128 -> Accuracy: 0.940\n"
     ]
    },
    {
     "name": "stderr",
     "output_type": "stream",
     "text": [
      "Grid Search:  96%|█████████▌| 282/294 [00:38<00:01,  6.49it/s]"
     ]
    },
    {
     "name": "stdout",
     "output_type": "stream",
     "text": [
      "P=0.9, N=70, K=16 -> Accuracy: 0.940\n",
      "P=0.9, N=70, K=24 -> Accuracy: 0.940\n"
     ]
    },
    {
     "name": "stderr",
     "output_type": "stream",
     "text": [
      "Grid Search:  97%|█████████▋| 284/294 [00:39<00:01,  6.21it/s]"
     ]
    },
    {
     "name": "stdout",
     "output_type": "stream",
     "text": [
      "P=0.9, N=70, K=32 -> Accuracy: 0.940\n",
      "P=0.9, N=70, K=40 -> Accuracy: 0.940\n"
     ]
    },
    {
     "name": "stderr",
     "output_type": "stream",
     "text": [
      "Grid Search:  97%|█████████▋| 286/294 [00:39<00:01,  6.21it/s]"
     ]
    },
    {
     "name": "stdout",
     "output_type": "stream",
     "text": [
      "P=0.9, N=70, K=48 -> Accuracy: 0.940\n",
      "P=0.9, N=70, K=64 -> Accuracy: 0.940\n"
     ]
    },
    {
     "name": "stderr",
     "output_type": "stream",
     "text": [
      "Grid Search:  98%|█████████▊| 288/294 [00:39<00:01,  5.90it/s]"
     ]
    },
    {
     "name": "stdout",
     "output_type": "stream",
     "text": [
      "P=0.9, N=70, K=128 -> Accuracy: 0.940\n",
      "P=0.9, N=100, K=16 -> Accuracy: 0.940\n"
     ]
    },
    {
     "name": "stderr",
     "output_type": "stream",
     "text": [
      "Grid Search:  99%|█████████▊| 290/294 [00:40<00:00,  5.45it/s]"
     ]
    },
    {
     "name": "stdout",
     "output_type": "stream",
     "text": [
      "P=0.9, N=100, K=24 -> Accuracy: 0.940\n",
      "P=0.9, N=100, K=32 -> Accuracy: 0.940\n"
     ]
    },
    {
     "name": "stderr",
     "output_type": "stream",
     "text": [
      "Grid Search:  99%|█████████▉| 292/294 [00:40<00:00,  5.32it/s]"
     ]
    },
    {
     "name": "stdout",
     "output_type": "stream",
     "text": [
      "P=0.9, N=100, K=40 -> Accuracy: 0.940\n",
      "P=0.9, N=100, K=48 -> Accuracy: 0.940\n"
     ]
    },
    {
     "name": "stderr",
     "output_type": "stream",
     "text": [
      "Grid Search: 100%|██████████| 294/294 [00:40<00:00,  7.20it/s]"
     ]
    },
    {
     "name": "stdout",
     "output_type": "stream",
     "text": [
      "P=0.9, N=100, K=64 -> Accuracy: 0.940\n",
      "P=0.9, N=100, K=128 -> Accuracy: 0.940\n",
      "\n",
      "==================================================\n",
      "Top 10 Best Hyperparameter Combinations:\n",
      "==================================================\n",
      "  P   N   K  accuracy\n",
      "0.3  30  48      0.96\n",
      "0.3  30  40      0.96\n",
      "0.3  30  64      0.95\n",
      "0.3  30  32      0.95\n",
      "0.5  30 128      0.95\n",
      "0.5  70 128      0.95\n",
      "0.5 100  64      0.94\n",
      "0.5 100 128      0.94\n",
      "0.7   5  16      0.94\n",
      "0.5 100  48      0.94\n",
      "\n",
      "==================================================\n",
      "Best Hyperparameters Found:\n",
      "P = 0.3\n",
      "N = 30.0\n",
      "K = 48.0\n",
      "Validation Accuracy = 0.9600\n",
      "==================================================\n"
     ]
    },
    {
     "name": "stderr",
     "output_type": "stream",
     "text": [
      "\n"
     ]
    }
   ],
   "source": [
    "df_val = pd.read_parquet(\"data/val_100.parquet\")\n",
    "\n",
    "# Grid search for hyperparameter optimization\n",
    "import itertools\n",
    "from tqdm import tqdm\n",
    "\n",
    "# Define hyperparameter search space\n",
    "P_values = [0.01, 0.1, 0.3, 0.5, 0.7, 0.9]  # Weight for global vs local scores\n",
    "N_values = [5, 10, 20, 30, 50, 70, 100]  # Number of nearest neighbors\n",
    "K_values = [16, 24, 32, 40, 48, 64, 128]  # ELO sensitivity\n",
    "\n",
    "# Store results\n",
    "results = []\n",
    "\n",
    "print(\"Starting hyperparameter optimization...\")\n",
    "print(f\"Total combinations to test: {len(P_values) * len(N_values) * len(K_values)}\")\n",
    "\n",
    "# Grid search\n",
    "for P, N, K in tqdm(itertools.product(P_values, N_values, K_values), \n",
    "                    total=len(P_values) * len(N_values) * len(K_values),\n",
    "                    desc=\"Grid Search\"):\n",
    "    \n",
    "    # Initialize router with current hyperparameters\n",
    "    router = EagleRouter(P=P, N=N, K=K)\n",
    "    \n",
    "    # Train global scores\n",
    "    router.train_global_scores()\n",
    "    \n",
    "    # Evaluate on validation set\n",
    "    correct = 0\n",
    "    for i in range(len(df_val)):\n",
    "        row = df_val.iloc[i]\n",
    "        query_prompt_embedding = row[\"prompt_embedding\"]\n",
    "        gold_model = (\n",
    "            \"gpt-4o-2024-08-06\"\n",
    "            if row[\"gpt-4o-2024-08-06/score\"] > row[\"gpt-4o-mini-2024-07-18/score\"]\n",
    "            else \"gpt-4o-mini-2024-07-18\"\n",
    "        )\n",
    "        chosen_model = router.route(query_prompt_embedding)\n",
    "        if chosen_model == gold_model:\n",
    "            correct += 1\n",
    "    \n",
    "    accuracy = correct / len(df_val)\n",
    "    \n",
    "    # Store results\n",
    "    results.append({\n",
    "        'P': P,\n",
    "        'N': N,\n",
    "        'K': K,\n",
    "        'accuracy': accuracy\n",
    "    })\n",
    "    \n",
    "    print(f\"P={P}, N={N}, K={K} -> Accuracy: {accuracy:.3f}\")\n",
    "\n",
    "# Convert to DataFrame for analysis\n",
    "results_df = pd.DataFrame(results)\n",
    "results_df = results_df.sort_values('accuracy', ascending=False)\n",
    "\n",
    "print(\"\\n\" + \"=\"*50)\n",
    "print(\"Top 10 Best Hyperparameter Combinations:\")\n",
    "print(\"=\"*50)\n",
    "print(results_df.head(10).to_string(index=False))\n",
    "\n",
    "# Find best hyperparameters\n",
    "best_params = results_df.iloc[0]\n",
    "print(\"\\n\" + \"=\"*50)\n",
    "print(\"Best Hyperparameters Found:\")\n",
    "print(f\"P = {best_params['P']}\")\n",
    "print(f\"N = {best_params['N']}\")\n",
    "print(f\"K = {best_params['K']}\")\n",
    "print(f\"Validation Accuracy = {best_params['accuracy']:.4f}\")\n",
    "print(\"=\"*50)"
   ]
  },
  {
   "cell_type": "code",
   "execution_count": null,
   "id": "be7beef7",
   "metadata": {},
   "outputs": [
    {
     "name": "stdout",
     "output_type": "stream",
     "text": [
      "Evaluating Best Model on Test Set\n",
      "\n",
      "WITH DEFAULT PARAMETERS\n",
      "Test Set Accuracy with default parameters: 0.9500\n",
      "==================================================\n",
      "WITH BEST PARAMETERS\n",
      "Test Set Accuracy with best parameters: 0.9100\n"
     ]
    }
   ],
   "source": [
    "import pandas as pd\n",
    "\n",
    "# Load your precomputed embeddings parquet file\n",
    "df_test = pd.read_parquet(\"data/test_100.parquet\")\n",
    "\n",
    "# Evaluate best model on test set\n",
    "\n",
    "print(\"Evaluating Best Model on Test Set\\n\")\n",
    "\n",
    "print(\"WITH DEFAULT PARAMETERS\")\n",
    "default_router = EagleRouter()\n",
    "default_router.train_global_scores()\n",
    "\n",
    "# Evaluate on test set\n",
    "test_correct = 0\n",
    "for i in range(len(df_test)):\n",
    "    row = df_test.iloc[i]\n",
    "    query_prompt_embedding = row[\"prompt_embedding\"]\n",
    "    gold_model = (\n",
    "        \"gpt-4o-2024-08-06\"\n",
    "        if row[\"gpt-4o-2024-08-06/score\"] > row[\"gpt-4o-mini-2024-07-18/score\"]\n",
    "        else \"gpt-4o-mini-2024-07-18\"\n",
    "    )\n",
    "    chosen_model = default_router.route(query_prompt_embedding)\n",
    "    if chosen_model == gold_model:\n",
    "        test_correct += 1\n",
    "\n",
    "test_accuracy = test_correct / len(df_test)\n",
    "\n",
    "print(f\"Test Set Accuracy with default parameters: {test_accuracy:.4f}\")\n",
    "\n",
    "print(\"=\"*50)\n",
    "print(\"WITH BEST PARAMETERS\")\n",
    "# Create router with best hyperparameters\n",
    "best_router = EagleRouter(\n",
    "    P=best_params['P'], \n",
    "    N=int(best_params['N']), \n",
    "    K=int(best_params['K'])\n",
    ")\n",
    "best_router.train_global_scores()\n",
    "\n",
    "# Evaluate on test set\n",
    "test_correct = 0\n",
    "for i in range(len(df_test)):\n",
    "    row = df_test.iloc[i]\n",
    "    query_prompt_embedding = row[\"prompt_embedding\"]\n",
    "    gold_model = (\n",
    "        \"gpt-4o-2024-08-06\"\n",
    "        if row[\"gpt-4o-2024-08-06/score\"] > row[\"gpt-4o-mini-2024-07-18/score\"]\n",
    "        else \"gpt-4o-mini-2024-07-18\"\n",
    "    )\n",
    "    chosen_model = best_router.route(query_prompt_embedding)\n",
    "    if chosen_model == gold_model:\n",
    "        test_correct += 1\n",
    "\n",
    "test_accuracy = test_correct / len(df_test)\n",
    "\n",
    "print(f\"Test Set Accuracy with best parameters: {test_accuracy:.4f}\")\n"
   ]
  },
  {
   "cell_type": "code",
   "execution_count": null,
   "id": "c03c1f1f",
   "metadata": {},
   "outputs": [
    {
     "data": {
      "image/png": "[encoded data removed]",
      "text/plain": [
       "<Figure size 1500x1000 with 9 Axes>"
      ]
     },
     "metadata": {},
     "output_type": "display_data"
    }
   ],
   "source": [
    "# Visualize hyperparameter optimization results\n",
    "import matplotlib.pyplot as plt\n",
    "import seaborn as sns\n",
    "\n",
    "# Set up the plotting style\n",
    "plt.style.use('seaborn-v0_8-darkgrid')\n",
    "fig, axes = plt.subplots(2, 3, figsize=(15, 10))\n",
    "\n",
    "# 1. Average accuracy by P value\n",
    "p_avg = results_df.groupby('P')['accuracy'].mean().reset_index()\n",
    "axes[0, 0].plot(p_avg['P'], p_avg['accuracy'], marker='o', linewidth=2, markersize=8)\n",
    "axes[0, 0].set_xlabel('P (Global vs Local Weight)', fontsize=12)\n",
    "axes[0, 0].set_ylabel('Average Accuracy', fontsize=12)\n",
    "axes[0, 0].set_title('Impact of P on Accuracy', fontsize=14)\n",
    "axes[0, 0].grid(True, alpha=0.3)\n",
    "\n",
    "# 2. Average accuracy by N value\n",
    "n_avg = results_df.groupby('N')['accuracy'].mean().reset_index()\n",
    "axes[0, 1].plot(n_avg['N'], n_avg['accuracy'], marker='s', linewidth=2, markersize=8, color='green')\n",
    "axes[0, 1].set_xlabel('N (Number of Neighbors)', fontsize=12)\n",
    "axes[0, 1].set_ylabel('Average Accuracy', fontsize=12)\n",
    "axes[0, 1].set_title('Impact of N on Accuracy', fontsize=14)\n",
    "axes[0, 1].grid(True, alpha=0.3)\n",
    "\n",
    "# 3. Average accuracy by K value\n",
    "k_avg = results_df.groupby('K')['accuracy'].mean().reset_index()\n",
    "axes[0, 2].plot(k_avg['K'], k_avg['accuracy'], marker='^', linewidth=2, markersize=8, color='red')\n",
    "axes[0, 2].set_xlabel('K (ELO Sensitivity)', fontsize=12)\n",
    "axes[0, 2].set_ylabel('Average Accuracy', fontsize=12)\n",
    "axes[0, 2].set_title('Impact of K on Accuracy', fontsize=14)\n",
    "axes[0, 2].grid(True, alpha=0.3)\n",
    "\n",
    "# 4. Heatmap for P vs N (averaged over K)\n",
    "pn_pivot = results_df.pivot_table(values='accuracy', index='N', columns='P', aggfunc='mean')\n",
    "sns.heatmap(pn_pivot, annot=True, fmt='.3f', cmap='YlOrRd', ax=axes[1, 0], cbar_kws={'label': 'Accuracy'})\n",
    "axes[1, 0].set_xlabel('P (Global vs Local Weight)', fontsize=12)\n",
    "axes[1, 0].set_ylabel('N (Number of Neighbors)', fontsize=12)\n",
    "axes[1, 0].set_title('Accuracy Heatmap: P vs N', fontsize=14)\n",
    "\n",
    "# 5. Heatmap for P vs K (averaged over N)\n",
    "pk_pivot = results_df.pivot_table(values='accuracy', index='K', columns='P', aggfunc='mean')\n",
    "sns.heatmap(pk_pivot, annot=True, fmt='.3f', cmap='YlGnBu', ax=axes[1, 1], cbar_kws={'label': 'Accuracy'})\n",
    "axes[1, 1].set_xlabel('P (Global vs Local Weight)', fontsize=12)\n",
    "axes[1, 1].set_ylabel('K (ELO Sensitivity)', fontsize=12)\n",
    "axes[1, 1].set_title('Accuracy Heatmap: P vs K', fontsize=14)\n",
    "\n",
    "# 6. Heatmap for N vs K (averaged over P)\n",
    "nk_pivot = results_df.pivot_table(values='accuracy', index='K', columns='N', aggfunc='mean')\n",
    "sns.heatmap(nk_pivot, annot=True, fmt='.3f', cmap='viridis', ax=axes[1, 2], cbar_kws={'label': 'Accuracy'})\n",
    "axes[1, 2].set_xlabel('N (Number of Neighbors)', fontsize=12)\n",
    "axes[1, 2].set_ylabel('K (ELO Sensitivity)', fontsize=12)\n",
    "axes[1, 2].set_title('Accuracy Heatmap: N vs K', fontsize=14)\n",
    "\n",
    "plt.suptitle('Hyperparameter Optimization Analysis', fontsize=16, y=1.02)\n",
    "plt.tight_layout()\n",
    "plt.show()\n"
   ]
  }
 ],
 "metadata": {
  "kernelspec": {
   "display_name": ".venv",
   "language": "python",
   "name": "python3"
  },
  "language_info": {
   "codemirror_mode": {
    "name": "ipython",
    "version": 3
   },
   "file_extension": ".py",
   "mimetype": "text/x-python",
   "name": "python",
   "nbconvert_exporter": "python",
   "pygments_lexer": "ipython3",
   "version": "3.12.9"
  }
 },
 "nbformat": 4,
 "nbformat_minor": 5
}
