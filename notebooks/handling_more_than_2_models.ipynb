{
 "cells": [
  {
   "cell_type": "markdown",
   "id": "461e1088",
   "metadata": {},
   "source": [
    "# Match result matrix"
   ]
  },
  {
   "cell_type": "code",
   "execution_count": 1,
   "id": "0d47d91e",
   "metadata": {},
   "outputs": [
    {
     "name": "stdout",
     "output_type": "stream",
     "text": [
      "[[-1  0 -1 -1]\n",
      " [-1 -1  1 -1]\n",
      " [-1 -1 -1  2]\n",
      " [-1 -1 -1 -1]]\n"
     ]
    }
   ],
   "source": [
    "import numpy as np\n",
    "\n",
    "# creat 4,4 matrix\n",
    "matrix = np.full((4, 4), -1, dtype=int)\n",
    "\n",
    "models = [\"gpt4o\", \"gpt4omini\", \"gpt4o-mini\", \"gpt4o-mini-2024-07-18\"]\n",
    "\n",
    "match_results = [\n",
    "    {\n",
    "        \"model_row\": models[0],\n",
    "        \"model_col\": models[1],\n",
    "        \"result\": 0, # model_row wins\n",
    "    },\n",
    "    {\n",
    "        \"model_row\": models[1],\n",
    "        \"model_col\": models[2],\n",
    "        \"result\": 1, # model_col wins\n",
    "    },\n",
    "    {\n",
    "        \"model_row\": models[2],\n",
    "        \"model_col\": models[3],\n",
    "        \"result\": 2, # draw\n",
    "    },\n",
    "    \n",
    "]\n",
    "\n",
    "# update the matrix\n",
    "for result in match_results:\n",
    "    matrix[models.index(result[\"model_row\"]), models.index(result[\"model_col\"])] = result[\"result\"]\n",
    "\n",
    "print(matrix)"
   ]
  },
  {
   "cell_type": "code",
   "execution_count": 2,
   "id": "c75abedf",
   "metadata": {},
   "outputs": [
    {
     "name": "stdout",
     "output_type": "stream",
     "text": [
      "[[-1  0 -1 -1 -1]\n",
      " [-1 -1  1 -1 -1]\n",
      " [-1 -1 -1  2 -1]\n",
      " [-1 -1 -1 -1 -1]\n",
      " [-1 -1 -1 -1 -1]]\n"
     ]
    }
   ],
   "source": [
    "# add a new model\n",
    "models.append(\"gpt4o-2024-08-06\")\n",
    "\n",
    "# add new row and col to the matrix\n",
    "matrix = np.pad(matrix, pad_width=((0, 1), (0, 1)), mode=\"constant\", constant_values=-1)\n",
    "print(matrix)"
   ]
  },
  {
   "cell_type": "code",
   "execution_count": 3,
   "id": "61d25100",
   "metadata": {},
   "outputs": [
    {
     "name": "stdout",
     "output_type": "stream",
     "text": [
      "[[-1  0 -1 -1 -1]\n",
      " [-1 -1  1  0 -1]\n",
      " [-1 -1 -1  2 -1]\n",
      " [ 0 -1 -1 -1 -1]\n",
      " [-1  0 -1 -1 -1]]\n"
     ]
    }
   ],
   "source": [
    "\n",
    "match_results = [\n",
    "    {\n",
    "        \"model_row\": models[4],\n",
    "        \"model_col\": models[1],\n",
    "        \"result\": 0, # model_row wins\n",
    "    },\n",
    "    {\n",
    "        \"model_row\": models[1],\n",
    "        \"model_col\": models[3],\n",
    "        \"result\": 0, # model_row wins\n",
    "    },\n",
    "    {\n",
    "        \"model_row\": models[3],\n",
    "        \"model_col\": models[0],\n",
    "        \"result\": 0, # model_row wins\n",
    "    }\n",
    "]\n",
    "\n",
    "for result in match_results:\n",
    "    matrix[models.index(result[\"model_row\"]), models.index(result[\"model_col\"])] = result[\"result\"]\n",
    "\n",
    "print(matrix)"
   ]
  },
  {
   "cell_type": "code",
   "execution_count": 4,
   "id": "a38f8888",
   "metadata": {},
   "outputs": [],
   "source": [
    "def get_indirect_match_result(matrix, model_row, model_col, verbose=False):\n",
    "    n = matrix.shape[0]\n",
    "    assert 0 <= model_row < n and 0 <= model_col < n\n",
    "\n",
    "    # If direct edge exists, return it immediately\n",
    "    direct = int(matrix[model_row, model_col])\n",
    "    if direct != -1:\n",
    "        if verbose:\n",
    "            return direct, [model_row, model_col], [direct]\n",
    "        return direct\n",
    "\n",
    "    # DFS to collect all simple paths' elos from model_row to model_col\n",
    "    def dfs(u, target, visited):\n",
    "        candidates = []  # each candidate: (path_nodes_list starting at u, path_elos_list)\n",
    "        for v in range(n):\n",
    "            edge = int(matrix[u, v])\n",
    "            if edge == -1 or v in visited:\n",
    "                continue\n",
    "            if v == target:\n",
    "                candidates.append(([u, v], [edge]))\n",
    "            else:\n",
    "                visited.add(v)\n",
    "                child_cands = dfs(v, target, visited)\n",
    "                visited.remove(v)\n",
    "                for child_nodes, child_elos in child_cands:\n",
    "                    # build full path and elos\n",
    "                    full_nodes = [u] + child_nodes\n",
    "                    full_elos = [edge] + child_elos\n",
    "                    candidates.append((full_nodes, full_elos))\n",
    "        return candidates\n",
    "\n",
    "    all_cands = dfs(model_row, model_col, {model_row})\n",
    "\n",
    "    # filter monotonic paths and compute inferred elo\n",
    "    def is_draw_or_win(seq):\n",
    "        return all(seq[i] <= 1 for i in range(len(seq)))\n",
    "\n",
    "    def is_draw_or_lose(seq):\n",
    "        return all(seq[i] >= 1 for i in range(len(seq)))\n",
    "\n",
    "    best = None  # (inferred_elo, nodes, elos)\n",
    "    for nodes, elos in all_cands:\n",
    "        if len(elos) == 0:\n",
    "            continue\n",
    "        if is_draw_or_lose(elos):\n",
    "            inferred = min(elos)\n",
    "        elif is_draw_or_win(elos):\n",
    "            inferred = max(elos)\n",
    "        else:\n",
    "            # not monotonic -> skip\n",
    "            continue\n",
    "\n",
    "        if best is None or inferred > best[0]:\n",
    "            best = (inferred, nodes, elos)\n",
    "\n",
    "    if verbose:\n",
    "        return None if best is None else best\n",
    "    return None if best is None else best[0]\n"
   ]
  },
  {
   "cell_type": "code",
   "execution_count": 5,
   "id": "b0608e7c",
   "metadata": {},
   "outputs": [
    {
     "name": "stdout",
     "output_type": "stream",
     "text": [
      "(0, [0, 1, 3], [0, 0])\n"
     ]
    }
   ],
   "source": [
    "score = get_indirect_match_result(matrix, 0, 3, verbose=True)\n",
    "print(score)\n"
   ]
  },
  {
   "cell_type": "code",
   "execution_count": 6,
   "id": "6da79a65",
   "metadata": {},
   "outputs": [
    {
     "name": "stdout",
     "output_type": "stream",
     "text": [
      "(0, [4, 1, 3, 0], [0, 0, 0])\n"
     ]
    }
   ],
   "source": [
    "score = get_indirect_match_result(matrix, 4, 0, verbose=True)\n",
    "print(score)"
   ]
  },
  {
   "cell_type": "markdown",
   "id": "e7eb44cb",
   "metadata": {},
   "source": [
    "# ELO Matrix"
   ]
  },
  {
   "cell_type": "code",
   "execution_count": 7,
   "id": "5a0fb798",
   "metadata": {},
   "outputs": [
    {
     "name": "stdout",
     "output_type": "stream",
     "text": [
      "[[ -1  -1  -1  -1  -1]\n",
      " [101  -1  99  -1  -1]\n",
      " [ -1  -1  -1  90  -1]\n",
      " [ -1  93  -1  -1  -1]\n",
      " [ -1 101  -1  -1  -1]]\n"
     ]
    }
   ],
   "source": [
    "# row model is the main model that is responsible for the elo score. Col model is the model that is being compared to the main model.\n",
    "elo_matrix = np.full((5, 5), -1, dtype=int)\n",
    "\n",
    "updated_elo = [\n",
    "    {\n",
    "        \"model_row\": models[4],\n",
    "        \"model_col\": models[1],\n",
    "        \"elo\": 101,  # model_row wins\n",
    "    },\n",
    "    {\n",
    "        \"model_row\": models[1],\n",
    "        \"model_col\": models[2],\n",
    "        \"elo\": 99,  # model_row wins\n",
    "    },\n",
    "    {\n",
    "        \"model_row\": models[2],\n",
    "        \"model_col\": models[3],\n",
    "        \"elo\": 99,  # model_row wins\n",
    "    },\n",
    "    {\n",
    "        \"model_row\": models[2],\n",
    "        \"model_col\": models[3],\n",
    "        \"elo\": 90,  # model_row wins\n",
    "    },\n",
    "    {\n",
    "        \"model_row\": models[3],\n",
    "        \"model_col\": models[1],\n",
    "        \"elo\": 93,  # model_row wins\n",
    "    },\n",
    "    {\n",
    "        \"model_row\": models[1],\n",
    "        \"model_col\": models[0],\n",
    "        \"elo\": 101,  # model_row wins\n",
    "    },\n",
    "]\n",
    "\n",
    "for result in updated_elo:\n",
    "    elo_matrix[models.index(result[\"model_row\"]), models.index(result[\"model_col\"])] = (\n",
    "        result[\"elo\"]\n",
    "    )\n",
    "\n",
    "print(elo_matrix)"
   ]
  },
  {
   "cell_type": "code",
   "execution_count": 8,
   "id": "82a9ea90",
   "metadata": {},
   "outputs": [],
   "source": [
    "def get_indirect_score(elo_matrix, model_row, model_col, *, verbose=False):\n",
    "    \"\"\"\n",
    "    Find an indirect (or direct) connection from model_row to model_col whose\n",
    "    sequence of edge elos is monotonic (either non-increasing or non-decreasing).\n",
    "    Returns the inferred elo value for the best monotonic path (int) or None\n",
    "    if no monotonic path exists.\n",
    "\n",
    "    Heuristic used to infer a single elo from a monotonic path:\n",
    "      - If the sequence is non-increasing (a >= b >= c ...), return min(elos)\n",
    "      - If the sequence is non-decreasing (a <= b <= c ...), return max(elos)\n",
    "    Among multiple monotonic paths, the path with the largest inferred elo is chosen.\n",
    "\n",
    "    If verbose=True, returns a tuple (inferred_elo_or_None, best_path_nodes, best_path_elos).\n",
    "    Otherwise returns just the inferred elo (or None).\n",
    "    \"\"\"\n",
    "    n = elo_matrix.shape[0]\n",
    "    assert 0 <= model_row < n and 0 <= model_col < n\n",
    "\n",
    "    # If direct edge exists, return it immediately\n",
    "    direct = int(elo_matrix[model_row, model_col])\n",
    "    if direct != -1:\n",
    "        if verbose:\n",
    "            return direct, [model_row, model_col], [direct]\n",
    "        return direct\n",
    "\n",
    "    # DFS to collect all simple paths' elos from model_row to model_col\n",
    "    def dfs(u, target, visited):\n",
    "        candidates = []  # each candidate: (path_nodes_list starting at u, path_elos_list)\n",
    "        for v in range(n):\n",
    "            edge = int(elo_matrix[u, v])\n",
    "            if edge == -1 or v in visited:\n",
    "                continue\n",
    "            if v == target:\n",
    "                candidates.append(([u, v], [edge]))\n",
    "            else:\n",
    "                visited.add(v)\n",
    "                child_cands = dfs(v, target, visited)\n",
    "                visited.remove(v)\n",
    "                for child_nodes, child_elos in child_cands:\n",
    "                    # build full path and elos\n",
    "                    full_nodes = [u] + child_nodes\n",
    "                    full_elos = [edge] + child_elos\n",
    "                    candidates.append((full_nodes, full_elos))\n",
    "        return candidates\n",
    "\n",
    "    all_cands = dfs(model_row, model_col, {model_row})\n",
    "\n",
    "    # filter monotonic paths and compute inferred elo\n",
    "    def is_non_decreasing(seq):\n",
    "        return all(seq[i] <= seq[i + 1] for i in range(len(seq) - 1))\n",
    "\n",
    "    def is_non_increasing(seq):\n",
    "        return all(seq[i] >= seq[i + 1] for i in range(len(seq) - 1))\n",
    "\n",
    "    best = None  # (inferred_elo, nodes, elos)\n",
    "    for nodes, elos in all_cands:\n",
    "        if len(elos) == 0:\n",
    "            continue\n",
    "        if is_non_increasing(elos):\n",
    "            inferred = min(elos)\n",
    "        elif is_non_decreasing(elos):\n",
    "            inferred = max(elos)\n",
    "        else:\n",
    "            # not monotonic -> skip\n",
    "            continue\n",
    "\n",
    "        if best is None or inferred > best[0]:\n",
    "            best = (inferred, nodes, elos)\n",
    "\n",
    "    if verbose:\n",
    "        return None if best is None else best\n",
    "    return None if best is None else best[0]\n"
   ]
  },
  {
   "cell_type": "code",
   "execution_count": 9,
   "id": "63dd83d9",
   "metadata": {},
   "outputs": [
    {
     "name": "stdout",
     "output_type": "stream",
     "text": [
      "(101, [4, 1], [101])\n"
     ]
    }
   ],
   "source": [
    "score = get_indirect_score(elo_matrix, 4, 1, verbose=True)\n",
    "print(score)"
   ]
  },
  {
   "cell_type": "code",
   "execution_count": 10,
   "id": "de4c6d77",
   "metadata": {},
   "outputs": [
    {
     "name": "stdout",
     "output_type": "stream",
     "text": [
      "(90, [4, 1, 2, 3], [101, 99, 90])\n"
     ]
    }
   ],
   "source": [
    "score = get_indirect_score(elo_matrix, 4,3, verbose=True)\n",
    "print(score)\n"
   ]
  },
  {
   "cell_type": "code",
   "execution_count": 11,
   "id": "55ad3032",
   "metadata": {},
   "outputs": [
    {
     "name": "stdout",
     "output_type": "stream",
     "text": [
      "(101, [2, 3, 1, 0], [90, 93, 101])\n"
     ]
    }
   ],
   "source": [
    "score = get_indirect_score(elo_matrix, 2,0, verbose=True)\n",
    "print(score)\n"
   ]
  },
  {
   "cell_type": "code",
   "execution_count": null,
   "id": "0ec57fd7",
   "metadata": {},
   "outputs": [],
   "source": []
  },
  {
   "cell_type": "code",
   "execution_count": null,
   "id": "b0f2c7ff",
   "metadata": {},
   "outputs": [],
   "source": []
  },
  {
   "cell_type": "code",
   "execution_count": null,
   "id": "6eb33be9",
   "metadata": {},
   "outputs": [],
   "source": []
  },
  {
   "cell_type": "code",
   "execution_count": null,
   "id": "8b8e578a",
   "metadata": {},
   "outputs": [],
   "source": []
  },
  {
   "cell_type": "code",
   "execution_count": null,
   "id": "2fe5c015",
   "metadata": {},
   "outputs": [],
   "source": []
  }
 ],
 "metadata": {
  "kernelspec": {
   "display_name": ".venv",
   "language": "python",
   "name": "python3"
  },
  "language_info": {
   "codemirror_mode": {
    "name": "ipython",
    "version": 3
   },
   "file_extension": ".py",
   "mimetype": "text/x-python",
   "name": "python",
   "nbconvert_exporter": "python",
   "pygments_lexer": "ipython3",
   "version": "3.12.9"
  }
 },
 "nbformat": 4,
 "nbformat_minor": 5
}
