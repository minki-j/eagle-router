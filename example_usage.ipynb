{
 "cells": [
  {
   "cell_type": "code",
   "execution_count": 1,
   "id": "841ffee7",
   "metadata": {},
   "outputs": [],
   "source": [
    "from eagle_router import EagleRouter\n",
    "import numpy as np\n",
    "import dotenv\n",
    "import os\n",
    "import logging\n",
    "from openai import OpenAI\n",
    "\n",
    "logging.basicConfig(level=logging.WARNING)\n",
    "\n",
    "dotenv.load_dotenv()\n",
    "mongodb_uri = os.getenv(\"MONGODB_URI\")\n",
    "if mongodb_uri is None:\n",
    "    raise ValueError(\"MONGODB_URI is not set\")"
   ]
  },
  {
   "cell_type": "code",
   "execution_count": 2,
   "id": "7c718f53",
   "metadata": {},
   "outputs": [],
   "source": [
    "router = EagleRouter(\n",
    "    mongodb_uri=os.getenv(\"MONGODB_URI\"),\n",
    "    P=0.3,\n",
    "    N=10,\n",
    "    K=8,\n",
    ")"
   ]
  },
  {
   "cell_type": "code",
   "execution_count": 3,
   "id": "0d56c47f",
   "metadata": {},
   "outputs": [],
   "source": [
    "from openai import OpenAI\n",
    "import numpy as np\n",
    "\n",
    "client = OpenAI()\n",
    "\n",
    "prompt = \"What is the capital of France?\"\n",
    "embedding = client.embeddings.create(input=prompt, model=\"text-embedding-3-large\")\n",
    "embedding = embedding.data[0].embedding\n",
    "embedding = np.array(embedding)\n"
   ]
  },
  {
   "cell_type": "code",
   "execution_count": 4,
   "id": "4b378e2c",
   "metadata": {},
   "outputs": [
    {
     "data": {
      "text/plain": [
       "{'gpt-4o-mini-2024-07-18': 116.0611228728792,\n",
       " 'gpt-4o-2024-08-06': 83.93887712712083}"
      ]
     },
     "execution_count": 4,
     "metadata": {},
     "output_type": "execute_result"
    }
   ],
   "source": [
    "router.route(embedding)"
   ]
  }
 ],
 "metadata": {
  "kernelspec": {
   "display_name": ".venv",
   "language": "python",
   "name": "python3"
  },
  "language_info": {
   "codemirror_mode": {
    "name": "ipython",
    "version": 3
   },
   "file_extension": ".py",
   "mimetype": "text/x-python",
   "name": "python",
   "nbconvert_exporter": "python",
   "pygments_lexer": "ipython3",
   "version": "3.12.9"
  }
 },
 "nbformat": 4,
 "nbformat_minor": 5
}
